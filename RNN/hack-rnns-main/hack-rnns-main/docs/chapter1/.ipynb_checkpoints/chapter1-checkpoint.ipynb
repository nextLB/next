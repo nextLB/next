{
 "cells": [
  {
   "cell_type": "markdown",
   "id": "1bbc26a7-be2e-45d6-96c0-e50edd84e5f0",
   "metadata": {},
   "source": [
    "# RNN 简介\n",
    "\n",
    "# 时间序列模型概念简介\n",
    "循环神经网络（RNN）是一种神经网络类型，其神经元的输出在下一个时间步会反馈作为输入，使网络具有处理序列数据的能力。它能处理变长序列，挖掘数据中的时序信息，不过存在长期依赖问题，即难以处理长序列中相距较远的信息关联。\n",
    "RNN与普通神经网络的主要区别在于其具有记忆功能，神经元的输出能作为下一步输入，可处理序列数据，且输入和输出长度不固定；普通神经网络一般处理独立同分布的数据，层与层之间是简单的前馈连接关系，输入输出的长度通常是固定的。\n",
    "\n",
    "RNN的应用场景广泛，在自然语言处理方面，可用于语言模型来预测下一个单词的概率，还能完成机器翻译、文本生成任务；在语音识别领域，能够处理语音这种时间序列信号，提高识别准确率；在时间序列预测中，像股票价格预测、天气预测等，RNN通过学习历史数据模式预测未来值；在视频分析中，它可以处理视频帧序列，进行动作识别等操作。\n",
    "\n",
    "\n",
    "\n",
    "\n",
    "\n",
    "# RNN网络结构图\n",
    "![图1](images/rnn.png)"
   ]
  },
  {
   "cell_type": "markdown",
   "id": "5eed32eb-d5dc-4fe6-9164-3d621a98d2fa",
   "metadata": {},
   "source": [
    "RNN公式：\n",
    "$$\n",
    "[\n",
    "\\boldsymbol{h}_t = tanh(\\boldsymbol{h}_{t-1} \\boldsymbol{W}_h + \\boldsymbol{x}_t \\boldsymbol{W}_x + \\boldsymbol{b})\n",
    "]\n",
    "$$"
   ]
  },
  {
   "cell_type": "markdown",
   "id": "3672e561-69a7-416d-93f3-39c6bb131577",
   "metadata": {},
   "source": []
  },
  {
   "cell_type": "markdown",
   "id": "51511bf4-3182-4f3d-8482-5f36d3ab755b",
   "metadata": {},
   "source": [
    "# 观察torch.nn.RNN的输入输出"
   ]
  },
  {
   "cell_type": "code",
   "execution_count": 79,
   "id": "e152dd0d-8abf-46d3-85d4-f418335ad2f5",
   "metadata": {},
   "outputs": [],
   "source": [
    "import torch\n",
    "import torch.nn as nn"
   ]
  },
  {
   "cell_type": "code",
   "execution_count": 114,
   "id": "98eb8147-8728-49ac-b7ec-bbd4c85e27bf",
   "metadata": {},
   "outputs": [
    {
     "name": "stdout",
     "output_type": "stream",
     "text": [
      "tensor([[[ 0.2211,  0.0713, -0.7325,  0.2592]]])\n",
      "tensor([[[-0.4568, -0.2468,  0.2100]]], grad_fn=<TransposeBackward1>)\n",
      "torch.Size([1, 1, 3])\n",
      "tensor([[[-0.4568, -0.2468,  0.2100]]], grad_fn=<StackBackward0>)\n",
      "torch.Size([1, 1, 3])\n"
     ]
    }
   ],
   "source": [
    "# 单向、单层rnn\n",
    "# 1个时间步\n",
    "# batch_first=True表示输入数据的维度为[batch_size, seq_len, input_dim], input_dim在后文也称为input_size\n",
    "single_rnn = nn.RNN(input_size=4, hidden_size=3, num_layers=1, batch_first=True) \n",
    "input = torch.randn(1, 1, 4) # 输入数据维度为[batch_size, time_steps_num, input_dim]\n",
    "output, h_n = single_rnn(input) # output维度为[batch_size, time_steps_num, hidden_size=3]，h_n维度为[num_layers=1, batch_size, hidden_size=3]\n",
    "print(input,output, output.shape, h_n, h_n.shape,  sep='\\n')"
   ]
  },
  {
   "cell_type": "code",
   "execution_count": 113,
   "id": "92793422-5d08-49fd-bad4-7a18a428c138",
   "metadata": {},
   "outputs": [
    {
     "name": "stdout",
     "output_type": "stream",
     "text": [
      "tensor([[[ 1.3055,  0.0048, -0.0629,  0.4583],\n",
      "         [ 0.8229,  1.5621,  0.1653,  0.5145]]])\n",
      "tensor([[[-0.2296, -0.4769, -0.0592],\n",
      "         [ 0.0134, -0.5053, -0.6914]]], grad_fn=<TransposeBackward1>)\n",
      "torch.Size([1, 2, 3])\n",
      "tensor([[[ 0.0134, -0.5053, -0.6914]]], grad_fn=<StackBackward0>)\n",
      "torch.Size([1, 1, 3])\n"
     ]
    }
   ],
   "source": [
    "# 单向、单层rnn\n",
    "# 2个时间步\n",
    "single_rnn = nn.RNN(input_size=4, hidden_size=3, num_layers=1, batch_first=True) # 输入数据的维度为[batch_size, time_steps_num, input_dim]\n",
    "input = torch.randn(1, 2, 4) # 输入数据维度为[batch_size, time_steps_num, input_dim]\n",
    "output, h_n = single_rnn(input) # output维度为[batch_size, time_steps_num, hidden_size=3]，h_n维度为[num_layers=1, batch_size, hidden_size=3]\n",
    "print(input,output, output.shape, h_n, h_n.shape,  sep='\\n')"
   ]
  },
  {
   "cell_type": "markdown",
   "id": "2a40a4c3-8063-4b5c-8892-d0dce778f265",
   "metadata": {},
   "source": [
    "output输出为不同时间步的隐状态"
   ]
  },
  {
   "cell_type": "code",
   "execution_count": 82,
   "id": "06c81d55-80f1-496e-8c00-57db4bf6edc4",
   "metadata": {},
   "outputs": [
    {
     "name": "stdout",
     "output_type": "stream",
     "text": [
      "tensor([[[ 0.0293, -0.2261,  0.3965, -0.8093,  0.5495, -0.2421],\n",
      "         [ 0.3172, -0.4707, -0.0548, -0.9589,  0.5515,  0.0759],\n",
      "         [-0.3819, -0.9026,  0.2700, -0.6062,  0.9286, -0.6791],\n",
      "         [-0.9650,  0.2898,  0.9175, -0.9964,  0.3749, -0.4732],\n",
      "         [ 0.4947, -0.6497,  0.0801, -0.3799,  0.8914, -0.4917]],\n",
      "\n",
      "        [[ 0.1236,  0.6172,  0.5129, -0.9334, -0.7831,  0.1077],\n",
      "         [ 0.7416,  0.5501,  0.4543, -0.8432, -0.2094, -0.3928],\n",
      "         [ 0.9069, -0.6283, -0.4312, -0.5202,  0.6983, -0.2993],\n",
      "         [ 0.2843, -0.9798, -0.5583, -0.0776,  0.9733,  0.1556],\n",
      "         [-0.9714, -0.1158,  0.7961, -0.9926,  0.1743,  0.1932]],\n",
      "\n",
      "        [[ 0.8565, -0.8896, -0.7905, -0.4024,  0.6848,  0.4695],\n",
      "         [-0.2559,  0.0835,  0.7091, -0.7468, -0.3244, -0.6832],\n",
      "         [-0.3923, -0.4974,  0.4001, -0.9646,  0.8942,  0.0540],\n",
      "         [ 0.2724, -0.8785, -0.4926, -0.8918,  0.8703,  0.0652],\n",
      "         [ 0.4889, -0.8752, -0.3374,  0.1035,  0.6077, -0.4534]]],\n",
      "       grad_fn=<TransposeBackward1>)\n",
      "torch.Size([3, 5, 6])\n",
      "tensor([[[ 0.4947, -0.6497,  0.0801],\n",
      "         [-0.9714, -0.1158,  0.7961],\n",
      "         [ 0.4889, -0.8752, -0.3374]],\n",
      "\n",
      "        [[-0.8093,  0.5495, -0.2421],\n",
      "         [-0.9334, -0.7831,  0.1077],\n",
      "         [-0.4024,  0.6848,  0.4695]]], grad_fn=<StackBackward0>)\n",
      "torch.Size([2, 3, 3])\n"
     ]
    }
   ],
   "source": [
    "# 双向、单层rnn\n",
    "bi_rnn = nn.RNN(input_size=4, hidden_size=3, num_layers=1, batch_first=True, bidirectional=True)\n",
    "bi_output, bi_h_n = bi_rnn(input)\n",
    "print(bi_output, bi_output.shape, bi_h_n, bi_h_n.shape, sep='\\n')"
   ]
  },
  {
   "cell_type": "markdown",
   "id": "6af0b04f-d59f-421a-b5b8-6d8f87b8d06e",
   "metadata": {},
   "source": [
    "# 从零手搓 RNN "
   ]
  },
  {
   "cell_type": "markdown",
   "id": "2943a164-b997-4947-bce8-8618b421ef3d",
   "metadata": {},
   "source": [
    "### 自定义单向单层RNN Layer"
   ]
  },
  {
   "cell_type": "code",
   "execution_count": 83,
   "id": "b52299c8-f30e-4f86-8f39-c1a35116dd9f",
   "metadata": {},
   "outputs": [],
   "source": [
    "import torch\n",
    "import torch.nn as nn"
   ]
  },
  {
   "cell_type": "markdown",
   "id": "4c46bc4c-6957-49af-bad3-42163c342945",
   "metadata": {},
   "source": [
    "对照RNN公式实现RNN Layer\n",
    "$$\n",
    "[\n",
    "\\boldsymbol{h}_t = tanh(\\boldsymbol{h}_{t-1} \\boldsymbol{W}_h + \\boldsymbol{x}_t \\boldsymbol{W}_x + \\boldsymbol{b})\n",
    "]\n",
    "$$"
   ]
  },
  {
   "cell_type": "code",
   "execution_count": 84,
   "id": "a73914e1-9e0f-4296-82f9-9397b2655353",
   "metadata": {},
   "outputs": [],
   "source": [
    "class RNNLayer(nn.Module):\n",
    "    def __init__(self,input_size, hidden_size, num_layers=1, batch_first=True):\n",
    "        self.hidden_size = hidden_size\n",
    "        self.num_layers = num_layers\n",
    "        self.input_size = input_size\n",
    "        self.bidirectional = False\n",
    "        super().__init__()\n",
    "        self.W_ih = nn.Parameter(torch.rand(self.input_size, self.hidden_size))\n",
    "        self.W_hh = nn.Parameter(torch.rand(self.hidden_size, self.hidden_size))\n",
    "        self.b_ih = nn.Parameter(torch.zeros(self.hidden_size))\n",
    "        self.b_hh = nn.Parameter(torch.zeros(self.hidden_size))\n",
    "        \n",
    "    def forward(self,x_t,h_prev=None):\n",
    "        # part 1: torch.matmul(x_t, self.W_ih)\n",
    "        # x_t包含多个时间步，形状为[batch_size, time_steps_num, input_dim]\n",
    "        # W_ih形状为[input_dim, hidden_size]\n",
    "        # torch.matmul(x_t, self.W_ih) 输出矩阵形状为[batch_size, time_steps_num, hidden_size]\n",
    "        # part 2: torch.matmul(h_prev, self.W_hh)\n",
    "        # h_prev 形状为[batch_size, time_steps_num, hidden_size]\n",
    "        # W_hh形状为[hidden_size, hidden_size]\n",
    "        # torch.matmul(h_prev, self.W_hh) 输出矩阵形状为[batch_size, time_steps_num, hidden_size]\n",
    "        if h_prev == None:\n",
    "             h_prev = torch.zeros( x_t.size(0), self.hidden_size)\n",
    "        output = torch.tanh(torch.matmul(x_t, self.W_ih) + self.b_ih + torch.matmul(h_prev, self.W_hh) + self.b_hh)\n",
    "        return output,output[:,-1,:].unsqueeze(0)\n",
    "        "
   ]
  },
  {
   "cell_type": "markdown",
   "id": "9cc9415e-d1c4-452d-8424-2f11f0d789f4",
   "metadata": {},
   "source": [
    "### 测试输出"
   ]
  },
  {
   "cell_type": "code",
   "execution_count": 193,
   "id": "c66b3a31-7bee-4b8d-a72e-d21a8e2b886f",
   "metadata": {},
   "outputs": [
    {
     "name": "stdout",
     "output_type": "stream",
     "text": [
      "tensor([[[ 0.9629,  0.9930,  0.7752],\n",
      "         [-0.2752, -0.1178, -0.2255],\n",
      "         [-0.4656, -0.5441, -0.2772],\n",
      "         [-0.7855, -0.8322,  0.0315],\n",
      "         [ 0.7842,  0.9167,  0.8217]]], grad_fn=<TanhBackward0>)\n",
      "torch.Size([1, 5, 3])\n",
      "tensor([[[0.7842, 0.9167, 0.8217]]], grad_fn=<UnsqueezeBackward0>)\n",
      "torch.Size([1, 1, 3])\n"
     ]
    }
   ],
   "source": [
    "# 单向、单层rnn\n",
    "single_rnn = RNNLayer(input_size=4, hidden_size=3, num_layers=1, batch_first=True) # batch_first=True表示输入数据的维度为[batch_size, time_steps_num, input_dim]\n",
    "input = torch.randn(1, 5, 4) # 输入数据维度为[batch_size, time_steps_num, input_size]\n",
    "output,h_n = single_rnn(input) # output维度为[batch_size, time_steps_num, hidden_size=3]，h_n维度为[num_layers=1, batch_size, hidden_size=3]\n",
    "print(output, output.shape, h_n, h_n.shape,  sep='\\n')"
   ]
  },
  {
   "cell_type": "markdown",
   "id": "b42c2d2b-27bc-4e06-8c55-39cfdf95a6c9",
   "metadata": {},
   "source": [
    "输出结果形状与nn.RNN一致"
   ]
  },
  {
   "cell_type": "markdown",
   "id": "d191a8f4-53f7-4c0b-b6c4-a1f95f54e0cd",
   "metadata": {},
   "source": [
    "### 用nn.RNN建立模型"
   ]
  },
  {
   "cell_type": "code",
   "execution_count": 208,
   "id": "30c62d15-3524-4d4b-b063-d65a183e680a",
   "metadata": {},
   "outputs": [],
   "source": [
    "import torch.nn.functional as F"
   ]
  },
  {
   "cell_type": "code",
   "execution_count": 201,
   "id": "ee0112ac-52fc-4d40-b946-2c2bcf193e96",
   "metadata": {},
   "outputs": [],
   "source": [
    "class CustomRNN(nn.Module):\n",
    "    def __init__(self, input_size, hidden_size, num_layers, output_size):\n",
    "        super().__init__()\n",
    "        self.hidden_size = hidden_size\n",
    "        self.vocab_size = output_size# 输入是One hot, output_size和vocab_size 都是词表大小\n",
    "        self.num_layers = num_layers\n",
    "        self.rnn = nn.RNN(input_size, hidden_size, num_layers, batch_first=True)\n",
    "        self.fc = nn.Linear(hidden_size, output_size)\n",
    "\n",
    "    def forward(self, X):\n",
    "        # 这里的X输入为word index\n",
    "        X = F.one_hot(torch.tensor(torch.tensor(X)),self.vocab_size)\n",
    "        X = X.to(torch.float32)\n",
    "        print(X.size())\n",
    "        state_0 = torch.zeros(self.num_layers, X.size(0), self.hidden_size).to(X.device) # 隐状态的形状为[层数，batch_size,hidden_size]\n",
    "        out, state = self.rnn(X, state_0) \n",
    "        out = self.fc(out[:, -1, :])  # 取最后一个时间步的输出\n",
    "        return out"
   ]
  },
  {
   "cell_type": "markdown",
   "id": "1c5a29b0-6c9f-479f-8db2-e30085795294",
   "metadata": {},
   "source": [
    "### 测试模型输出"
   ]
  },
  {
   "cell_type": "markdown",
   "id": "b3e8d801-0fc9-47f3-ad9d-08adcd2c05bc",
   "metadata": {},
   "source": [
    "首先导入数据集"
   ]
  },
  {
   "cell_type": "code",
   "execution_count": 154,
   "id": "f8b165d6-da2f-4442-a5b1-83b211a69bc8",
   "metadata": {},
   "outputs": [],
   "source": [
    "def load_data_lyrics():\n",
    "    #with zipfile.ZipFile('./test.txt') as zin:\n",
    "    with open('test.txt') as f:\n",
    "            corpus_chars = f.read()#.decode('utf-8')\n",
    "    # corpus_chars[:40]  # '想要有直升机\\n想要和你飞到宇宙去\\n想要和你融化在一起\\n融化在宇宙里\\n我每天每天每'\n",
    "\n",
    "    # 将换行符替换成空格；仅使用前1万个字符来训练模型\n",
    "    corpus_chars = corpus_chars.replace('\\n', ' ').replace('\\r', ' ')\n",
    "    corpus_chars = corpus_chars[0:10000]\n",
    "\n",
    "    # 将每个字符映射成索引\n",
    "    idx_to_char = list(set(corpus_chars))\n",
    "    char_to_idx = dict([(char, i) for i, char in enumerate(idx_to_char)])\n",
    "    vocab_size = len(char_to_idx)  # 1027\n",
    "    corpus_indices = [char_to_idx[char] for char in corpus_chars]\n",
    "    sample = corpus_indices[:20]\n",
    "    return corpus_indices, char_to_idx, idx_to_char, vocab_size\n"
   ]
  },
  {
   "cell_type": "code",
   "execution_count": 155,
   "id": "87ecffdd-81e8-4adb-a635-30b9aeb61a71",
   "metadata": {},
   "outputs": [],
   "source": [
    "(corpus_indices, char_to_idx, idx_to_char, vocab_size) = load_data_lyrics()"
   ]
  },
  {
   "cell_type": "markdown",
   "id": "50f92e88-925b-41d0-b649-78718235c7d1",
   "metadata": {},
   "source": [
    "测试模型输出"
   ]
  },
  {
   "cell_type": "code",
   "execution_count": 197,
   "id": "50dc8609-91b2-4ef6-ab6b-1d896c042148",
   "metadata": {},
   "outputs": [
    {
     "name": "stdout",
     "output_type": "stream",
     "text": [
      "torch.Size([1, 3, 256])\n"
     ]
    },
    {
     "name": "stderr",
     "output_type": "stream",
     "text": [
      "/tmp/ipykernel_46949/1910301334.py:13: UserWarning: To copy construct from a tensor, it is recommended to use sourceTensor.clone().detach() or sourceTensor.clone().detach().requires_grad_(True), rather than torch.tensor(sourceTensor).\n",
      "  X = F.one_hot(torch.tensor(torch.tensor(X)),self.vocab_size)\n"
     ]
    }
   ],
   "source": [
    "model = CustomRNN(256, 10,1,256)\n",
    "Y = model([[13,12,14]])"
   ]
  },
  {
   "cell_type": "code",
   "execution_count": 198,
   "id": "598e5158-47e7-4ad0-8053-30fe70d058b4",
   "metadata": {},
   "outputs": [
    {
     "data": {
      "text/plain": [
       "torch.Size([1, 256])"
      ]
     },
     "execution_count": 198,
     "metadata": {},
     "output_type": "execute_result"
    }
   ],
   "source": [
    "Y.size()"
   ]
  },
  {
   "cell_type": "code",
   "execution_count": 164,
   "id": "3c5520c5-56e7-490e-b765-95b9b6e75210",
   "metadata": {},
   "outputs": [],
   "source": [
    "index = Y.argmax(dim=1)"
   ]
  },
  {
   "cell_type": "code",
   "execution_count": 165,
   "id": "6a2cfa8b-b426-4716-8801-3a616d6214af",
   "metadata": {},
   "outputs": [
    {
     "data": {
      "text/plain": [
       "'动'"
      ]
     },
     "execution_count": 165,
     "metadata": {},
     "output_type": "execute_result"
    }
   ],
   "source": [
    "idx_to_char[index]"
   ]
  },
  {
   "cell_type": "markdown",
   "id": "4db2cb04-7fd9-45a3-9ad7-24d64a827cb3",
   "metadata": {},
   "source": [
    "把推理部分打包成函数"
   ]
  },
  {
   "cell_type": "code",
   "execution_count": 199,
   "id": "1b6ad78c-9daa-4cf0-8be8-e7178601b4de",
   "metadata": {},
   "outputs": [],
   "source": [
    "def predict(init_chars,model,time_steps_num,idx_to_char,char_to_idx):\n",
    "    X = []\n",
    "    for c in init_chars:\n",
    "        X.append(char_to_idx[c])\n",
    "    output = init_chars\n",
    "    print(X)\n",
    "    for i in range(time_steps_num):\n",
    "        Y= model([X])\n",
    "        idx = Y.argmax(dim=1)\n",
    "        X.append(idx)\n",
    "        output+=idx_to_char[idx]\n",
    "    return output"
   ]
  },
  {
   "cell_type": "code",
   "execution_count": 202,
   "id": "2fce464f-6765-42f3-bb2f-8e629beb3486",
   "metadata": {},
   "outputs": [
    {
     "name": "stdout",
     "output_type": "stream",
     "text": [
      "[12]\n",
      "torch.Size([1, 1, 256])\n",
      "torch.Size([1, 2, 256])\n",
      "torch.Size([1, 3, 256])\n",
      "torch.Size([1, 4, 256])\n",
      "torch.Size([1, 5, 256])\n"
     ]
    },
    {
     "name": "stderr",
     "output_type": "stream",
     "text": [
      "/tmp/ipykernel_46949/1910301334.py:13: UserWarning: To copy construct from a tensor, it is recommended to use sourceTensor.clone().detach() or sourceTensor.clone().detach().requires_grad_(True), rather than torch.tensor(sourceTensor).\n",
      "  X = F.one_hot(torch.tensor(torch.tensor(X)),self.vocab_size)\n"
     ]
    },
    {
     "data": {
      "text/plain": [
       "'构0G0G0'"
      ]
     },
     "execution_count": 202,
     "metadata": {},
     "output_type": "execute_result"
    }
   ],
   "source": [
    "predict('构', model,5,idx_to_char,char_to_idx)"
   ]
  },
  {
   "cell_type": "markdown",
   "id": "48443935-8bee-417f-aec5-c1d66166f21c",
   "metadata": {},
   "source": [
    "模型尚未训练，输出随机结果"
   ]
  },
  {
   "cell_type": "markdown",
   "id": "6a17c9d9-8917-406c-a64c-ebaae0bbdb00",
   "metadata": {},
   "source": [
    "### 用自定义的RNN Layer预测"
   ]
  },
  {
   "cell_type": "code",
   "execution_count": 209,
   "id": "d8a8528d-6394-40b5-b86d-3e92797a0f28",
   "metadata": {},
   "outputs": [],
   "source": [
    "class CustomRNN(nn.Module):\n",
    "    def __init__(self, input_size, hidden_size, num_layers, output_size):\n",
    "        super().__init__()\n",
    "        self.hidden_size = hidden_size\n",
    "        self.vocab_size = output_size# 输入是One hot, output_size和vocab_size 都是词表大小\n",
    "        self.num_layers = num_layers\n",
    "        self.rnn = RNNLayer(input_size, hidden_size, num_layers, batch_first=True)  # 讲nn.RNN替换为自定义的RNNLayer\n",
    "        self.fc = nn.Linear(hidden_size, output_size)\n",
    "\n",
    "    def forward(self, X):\n",
    "        # 这里的X输入为word index\n",
    "        X = F.one_hot(torch.tensor(torch.tensor(X)),self.vocab_size)\n",
    "        X = X.to(torch.float32)\n",
    "        print(X.size())\n",
    "        state_0 = torch.zeros(self.num_layers, X.size(0), self.hidden_size).to(X.device) # 隐状态的形状为[层数，batch_size,hidden_size]\n",
    "        out, state = self.rnn(X, state_0) \n",
    "        out = self.fc(out[:, -1, :])  # 取最后一个时间步的输出\n",
    "        return out"
   ]
  },
  {
   "cell_type": "code",
   "execution_count": 204,
   "id": "e543c60b-ed82-4060-b8ae-47d34f8b875f",
   "metadata": {},
   "outputs": [
    {
     "name": "stdout",
     "output_type": "stream",
     "text": [
      "[12]\n",
      "torch.Size([1, 1, 256])\n",
      "torch.Size([1, 2, 256])\n",
      "torch.Size([1, 3, 256])\n",
      "torch.Size([1, 4, 256])\n",
      "torch.Size([1, 5, 256])\n"
     ]
    },
    {
     "name": "stderr",
     "output_type": "stream",
     "text": [
      "/tmp/ipykernel_46949/1910301334.py:13: UserWarning: To copy construct from a tensor, it is recommended to use sourceTensor.clone().detach() or sourceTensor.clone().detach().requires_grad_(True), rather than torch.tensor(sourceTensor).\n",
      "  X = F.one_hot(torch.tensor(torch.tensor(X)),self.vocab_size)\n"
     ]
    },
    {
     "data": {
      "text/plain": [
       "'构形h端回h'"
      ]
     },
     "execution_count": 204,
     "metadata": {},
     "output_type": "execute_result"
    }
   ],
   "source": [
    "model = CustomRNN(256, 10,1,256)\n",
    "predict('构', model,5,idx_to_char,char_to_idx)"
   ]
  },
  {
   "cell_type": "markdown",
   "id": "730c6577-38b9-46fc-9911-6bb810d05a77",
   "metadata": {},
   "source": [
    "同样也是随机结果"
   ]
  },
  {
   "cell_type": "markdown",
   "id": "c15c5864-7dc1-4c9d-ac3f-91dbfa93aebb",
   "metadata": {},
   "source": [
    "## 训练\n",
    "\n",
    "### 数据预处理\n",
    "- 读取数据集：\n",
    "  首先需要获取周杰伦的歌词数据集，可以从网络上搜索整理其歌词文本，将所有歌词保存到一个文本文件中，如jaychou_lyrics.txt。使用 Python 的open()函数读取文件内容，并进行必要的字符编码转换 。\n",
    "- 建立字符索引：\n",
    "将歌词中的每个字符映射为一个从 0 开始的连续整数索引，构建字符到索引的字典char_to_idx以及索引到字符的字典idx_to_char。通过遍历歌词文本，找出所有不同的字符，然后为每个字符分配一个唯一的索引。同时，可以得到词典大小vocab_size，即不同字符的数量 。\n",
    "- 数据采样:\n",
    "\n",
    "  对处理后的数据进行采样，以便生成训练所需的小批量数据。常见的采样方式有随机采样和相邻采样两种 ：\n",
    "- 随机采样：\n",
    "  每次从数据中随机选择一定长度的连续字符序列作为一个样本，同时对应的下一个字符作为该样本的标签。例如，若设定时间步数为num_steps，则每次随机选取num_steps个连续字符作为输入样本，其后面的一个字符作为输出标签。\n",
    "相邻采样：按照顺序依次选取连续的字符序列作为样本和标签，即第i个样本的输入是从i到i + num_steps - 1的字符序列，其标签则是从i + 1到i + num_steps的字符序列。"
   ]
  },
  {
   "cell_type": "code",
   "execution_count": 34,
   "id": "a97bd370-f7ce-40ce-a1b9-81581e393ae9",
   "metadata": {},
   "outputs": [
    {
     "ename": "NameError",
     "evalue": "name 'CustomRNN' is not defined",
     "output_type": "error",
     "traceback": [
      "\u001b[0;31m---------------------------------------------------------------------------\u001b[0m",
      "\u001b[0;31mNameError\u001b[0m                                 Traceback (most recent call last)",
      "Cell \u001b[0;32mIn[34], line 6\u001b[0m\n\u001b[1;32m      4\u001b[0m num_layers \u001b[38;5;241m=\u001b[39m \u001b[38;5;241m1\u001b[39m\n\u001b[1;32m      5\u001b[0m output_size \u001b[38;5;241m=\u001b[39m \u001b[38;5;241m100\u001b[39m\n\u001b[0;32m----> 6\u001b[0m rnn \u001b[38;5;241m=\u001b[39m \u001b[43mCustomRNN\u001b[49m(input_size, hidden_size, num_layers, output_size)\n\u001b[1;32m      8\u001b[0m \u001b[38;5;66;03m# 模拟输入数据（实际要根据歌词进行词向量等转换），这里假设一批次2条数据，序列长度5，维度为input_size\u001b[39;00m\n\u001b[1;32m      9\u001b[0m x \u001b[38;5;241m=\u001b[39m torch\u001b[38;5;241m.\u001b[39mrandn(\u001b[38;5;241m2\u001b[39m, \u001b[38;5;241m5\u001b[39m, input_size)\n",
      "\u001b[0;31mNameError\u001b[0m: name 'CustomRNN' is not defined"
     ]
    }
   ],
   "source": [
    "\n",
    "# 假设输入歌词维度、隐藏层维度、层数、输出维度等\n",
    "input_size = 100\n",
    "hidden_size = 256\n",
    "num_layers = 1\n",
    "output_size = 100\n",
    "rnn = CustomRNN(input_size, hidden_size, num_layers, output_size)\n",
    "\n",
    "# 模拟输入数据（实际要根据歌词进行词向量等转换），这里假设一批次2条数据，序列长度5，维度为input_size\n",
    "x = torch.randn(2, 5, input_size)\n",
    "optimizer = optim.Adam(rnn.parameters(), lr=0.001)\n",
    "criterion = nn.MSELoss()\n",
    "\n",
    "for epoch in range(10):\n",
    "    h_prev = rnn.init_hidden(2)\n",
    "    output, h_prev = rnn(x, h_prev)\n",
    "    loss = criterion(output, torch.randn(2, output_size))\n",
    "    optimizer.zero_grad()\n",
    "    loss.backward()\n",
    "    optimizer.step()\n",
    "    print(f'Epoch {epoch}, Loss: {loss.item()}')\n"
   ]
  },
  {
   "cell_type": "code",
   "execution_count": null,
   "id": "bda97458-2dfc-465e-86ec-92488878923c",
   "metadata": {},
   "outputs": [],
   "source": []
  },
  {
   "cell_type": "code",
   "execution_count": null,
   "id": "254eb864-0cc4-4bde-9697-0825c8973534",
   "metadata": {},
   "outputs": [],
   "source": []
  },
  {
   "cell_type": "markdown",
   "id": "a3dd3fbe-6bfe-41a1-8f2c-bd332d430b09",
   "metadata": {},
   "source": [
    "### 模型训练\n",
    "参数初始化：初始化模型的参数，如词嵌入维度embedding_dim、隐藏层维度hidden_dim等，并定义损失函数和优化器。例如，可以使用交叉熵损失函数nn.CrossEntropyLoss()和随机梯度下降优化器torch.optim.SGD() 。\n",
    "训练循环：在训练循环中，按照设定的批次大小和采样方式获取训练数据，将数据输入到模型中进行前向传播，计算损失值，然后使用优化器进行反向传播更新模型参数。在每个训练周期，可以打印出当前的损失值，以观察模型的训练进度 。"
   ]
  },
  {
   "cell_type": "code",
   "execution_count": 1,
   "id": "1929d48b-43d2-48fb-b9a0-db6967fd8fda",
   "metadata": {},
   "outputs": [],
   "source": [
    "def train(model, data_loader, criterion, optimizer, num_epochs):\n",
    "    for epoch in range(num_epochs):\n",
    "        hidden = None\n",
    "        total_loss = 0\n",
    "        for batch_x, batch_y in data_loader:\n",
    "            optimizer.zero_grad()\n",
    "            output, hidden = model(batch_x, hidden)\n",
    "            loss = criterion(output, batch_y.view(-1))\n",
    "            loss.backward()\n",
    "            torch.nn.utils.clip_grad_norm_(model.parameters(), max_norm=5)\n",
    "            optimizer.step()\n",
    "            total_loss += loss.item()\n",
    "            hidden = hidden.detach()\n",
    "        print(f'Epoch {epoch + 1}, Loss: {total_loss / len(data_loader)}')"
   ]
  },
  {
   "cell_type": "markdown",
   "id": "0ec35fc7-096d-4289-ae80-8ffefa1568cf",
   "metadata": {},
   "source": [
    "### 模型测试与效果评估\n",
    "- 生成歌词：训练完成后，可以使用训练好的模型来生成周杰伦风格的歌词。给定一个起始字符或字符序列，通过模型预测下一个可能的字符，然后将预测的字符作为新的输入，继续预测下一个字符，以此类推，生成一段歌词 。"
   ]
  },
  {
   "cell_type": "code",
   "execution_count": 2,
   "id": "a6ec35fb-0b34-47e5-8bc7-0c3b88eddfc6",
   "metadata": {},
   "outputs": [],
   "source": [
    "def generate_text(model, char_to_idx, idx_to_char, start_text, length):\n",
    "    model.eval()\n",
    "    with torch.no_grad():\n",
    "        input_text = torch.tensor([char_to_idx[char] for char in start_text]).unsqueeze(0)\n",
    "        hidden = None\n",
    "        generated_text = start_text\n",
    "        for _ in range(length):\n",
    "            output, hidden = model(input_text, hidden)\n",
    "            output_probs = torch.softmax(output, dim=1)\n",
    "            top_prob, top_idx = torch.topk(output_probs, k=1)\n",
    "            top_char = idx_to_char[top_idx.item()]\n",
    "            generated_text += top_char\n",
    "            input_text = torch.tensor([top_idx]).unsqueeze(0)\n",
    "        return generated_text"
   ]
  },
  {
   "cell_type": "markdown",
   "id": "f6a2de9b-b4b6-4a16-bd29-09dcec41cfa1",
   "metadata": {},
   "source": [
    "- 效果评估：可以从多个角度评估生成歌词的效果，如歌词的通顺性、连贯性、是否符合周杰伦的风格等。一种简单的方法是人工观察和评价生成的歌词，判断其是否具有一定的合理性和艺术感。也可以使用一些自动评估指标，如困惑度（Perplexity）等来定量地评估模型的性能，但困惑度指标并非完全能够准确反映生成文本的质量，仅供参考."
   ]
  },
  {
   "cell_type": "code",
   "execution_count": 3,
   "id": "3c8ca7fb-7be8-44e7-ae72-6d1c7393a861",
   "metadata": {},
   "outputs": [],
   "source": [
    "def calculate_perplexity(model, data_loader, criterion):\n",
    "    model.eval()\n",
    "    total_loss = 0\n",
    "    total_count = 0\n",
    "    with torch.no_grad():\n",
    "        for batch_x, batch_y in data_loader:\n",
    "            output, _ = model(batch_x, None)\n",
    "            loss = criterion(output, batch_y.view(-1))\n",
    "            total_loss += loss.item() * batch_y.numel()\n",
    "            total_count += batch_y.numel()\n",
    "    return torch.exp(torch.tensor(total_loss / total_count))"
   ]
  },
  {
   "cell_type": "markdown",
   "id": "b8876c42-584f-46b2-89a6-279b98a06663",
   "metadata": {},
   "source": [
    "通过以上步骤，就可以利用周杰伦的歌词训练 PyTorch RNN 模型，并对生成歌词的效果进行测试和评估 。需要注意的是，由于歌词的生成具有一定的主观性和创造性，模型的表现可能会因多种因素而有所不同，可通过调整模型结构、参数、训练数据等方式来进一步优化模型的性能 。"
   ]
  },
  {
   "cell_type": "code",
   "execution_count": null,
   "id": "1fad6d54-1307-44be-8bd5-e7f8f699e43d",
   "metadata": {},
   "outputs": [],
   "source": [
    "s"
   ]
  }
 ],
 "metadata": {
  "kernelspec": {
   "display_name": "PyTorch-2.0.0",
   "language": "python",
   "name": "pytorch-2.0.0"
  },
  "language_info": {
   "codemirror_mode": {
    "name": "ipython",
    "version": 3
   },
   "file_extension": ".py",
   "mimetype": "text/x-python",
   "name": "python",
   "nbconvert_exporter": "python",
   "pygments_lexer": "ipython3",
   "version": "3.9.11"
  }
 },
 "nbformat": 4,
 "nbformat_minor": 5
}
