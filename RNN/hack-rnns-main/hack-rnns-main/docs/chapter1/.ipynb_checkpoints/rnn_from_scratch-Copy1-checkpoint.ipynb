{
 "cells": [
  {
   "cell_type": "markdown",
   "id": "1bbc26a7-be2e-45d6-96c0-e50edd84e5f0",
   "metadata": {},
   "source": [
    "# RNN 简介\n",
    "\n",
    "# 时间序列模型概念简介\n",
    "简介时序模型的不同之处\n",
    "\n",
    "# RNN网络结构图\n",
    "![rnn](images/rnn.png)"
   ]
  },
  {
   "cell_type": "markdown",
   "id": "5eed32eb-d5dc-4fe6-9164-3d621a98d2fa",
   "metadata": {},
   "source": [
    "RNN公式：\n",
    "![rnn_rule](images/rnn_rule.png)"
   ]
  },
  {
   "cell_type": "markdown",
   "id": "51511bf4-3182-4f3d-8482-5f36d3ab755b",
   "metadata": {},
   "source": [
    "# 观察torch.nn.RNN的输入输出"
   ]
  },
  {
   "cell_type": "code",
   "execution_count": 1,
   "id": "e152dd0d-8abf-46d3-85d4-f418335ad2f5",
   "metadata": {},
   "outputs": [],
   "source": [
    "import torch\n",
    "import torch.nn as nn"
   ]
  },
  {
   "cell_type": "code",
   "execution_count": 3,
   "id": "98eb8147-8728-49ac-b7ec-bbd4c85e27bf",
   "metadata": {},
   "outputs": [
    {
     "name": "stdout",
     "output_type": "stream",
     "text": [
      "tensor([[[ 0.1926, -0.5641, -0.1246],\n",
      "         [ 0.3857, -0.5942,  0.3756],\n",
      "         [-0.7565, -0.9860, -0.6089],\n",
      "         [ 0.1879, -0.8991, -0.3685],\n",
      "         [ 0.4113, -0.8877, -0.5903]]], grad_fn=<TransposeBackward1>)\n",
      "torch.Size([1, 5, 3])\n",
      "tensor([[[ 0.4113, -0.8877, -0.5903]]], grad_fn=<StackBackward0>)\n",
      "torch.Size([1, 1, 3])\n"
     ]
    }
   ],
   "source": [
    "# 单向、单层rnn\n",
    "single_rnn = nn.RNN(input_size=4, hidden_size=3, num_layers=1, batch_first=True) # batch_first=True表示输入数据的维度为[batch_size, seq_len, input_size]\n",
    "input = torch.randn(1, 5, 4) # 输入数据维度为[batch_size, seq_len, input_size]\n",
    "output, h_n = single_rnn(input) # output维度为[batch_size, seq_len, hidden_size=3]，h_n维度为[num_layers=1, batch_size, hidden_size=3]\n",
    "print(output, output.shape, h_n, h_n.shape,  sep='\\n')"
   ]
  },
  {
   "cell_type": "code",
   "execution_count": 4,
   "id": "6fdc7e1b-e015-4be3-8047-567c8c42f78c",
   "metadata": {},
   "outputs": [
    {
     "data": {
      "text/plain": [
       "tensor([[-0.7565, -0.9860, -0.6089]], grad_fn=<SliceBackward0>)"
      ]
     },
     "execution_count": 4,
     "metadata": {},
     "output_type": "execute_result"
    }
   ],
   "source": [
    "output[:, 2, :] "
   ]
  },
  {
   "cell_type": "code",
   "execution_count": 6,
   "id": "06c81d55-80f1-496e-8c00-57db4bf6edc4",
   "metadata": {},
   "outputs": [
    {
     "name": "stdout",
     "output_type": "stream",
     "text": [
      "tensor([[[ 0.9352, -0.1535,  0.3298,  0.8335, -0.9024, -0.6281],\n",
      "         [ 0.3034, -0.5223, -0.9183,  0.8817, -0.4630, -0.6553],\n",
      "         [ 0.9745, -0.4444,  0.7889,  0.9376, -0.6616, -0.8148],\n",
      "         [ 0.7716, -0.2623, -0.8482,  0.7856, -0.1788, -0.9494],\n",
      "         [ 0.7237, -0.5549, -0.1000,  0.7960, -0.4034, -0.1305]]],\n",
      "       grad_fn=<TransposeBackward1>)\n",
      "torch.Size([1, 5, 6])\n",
      "tensor([[[ 0.7237, -0.5549, -0.1000]],\n",
      "\n",
      "        [[ 0.8335, -0.9024, -0.6281]]], grad_fn=<StackBackward0>)\n",
      "torch.Size([2, 1, 3])\n"
     ]
    }
   ],
   "source": [
    "# 双向、单层rnn\n",
    "bi_rnn = nn.RNN(input_size=4, hidden_size=3, num_layers=1, batch_first=True, bidirectional=True)\n",
    "bi_output, bi_h_n = bi_rnn(input)\n",
    "print(bi_output, bi_output.shape, bi_h_n, bi_h_n.shape, sep='\\n')"
   ]
  },
  {
   "cell_type": "markdown",
   "id": "6af0b04f-d59f-421a-b5b8-6d8f87b8d06e",
   "metadata": {},
   "source": [
    "# 从零手搓 RNN "
   ]
  },
  {
   "cell_type": "markdown",
   "id": "2943a164-b997-4947-bce8-8618b421ef3d",
   "metadata": {},
   "source": [
    "## forword"
   ]
  },
  {
   "cell_type": "code",
   "execution_count": 8,
   "id": "b52299c8-f30e-4f86-8f39-c1a35116dd9f",
   "metadata": {},
   "outputs": [],
   "source": [
    "import torch\n",
    "import torch.nn as nn"
   ]
  },
  {
   "cell_type": "code",
   "execution_count": 9,
   "id": "546887fc-623d-4623-b271-a77b6bf0abb8",
   "metadata": {},
   "outputs": [],
   "source": [
    "batch_size, seq_len, input_size, hidden_size = 2, 3, 2, 3 # 批次大小、序列长度、输入维度、隐藏层维度\n",
    "num_layers = 1 # rnn层数\n",
    "\n",
    "input = torch.randn(batch_size, seq_len, input_size) # 初始化输入数据\n",
    "h_prev = torch.zeros(batch_size, hidden_size) # 初始化隐藏层状态"
   ]
  },
  {
   "cell_type": "code",
   "execution_count": 10,
   "id": "c4beb290-ebac-4347-9a66-40b7360d178e",
   "metadata": {},
   "outputs": [
    {
     "name": "stdout",
     "output_type": "stream",
     "text": [
      "tensor([[[ 0.8950,  0.4833, -0.5547],\n",
      "         [ 0.1424,  0.4373, -0.6090],\n",
      "         [-0.5399,  0.7522, -0.0882]],\n",
      "\n",
      "        [[ 0.2022,  0.8119, -0.3363],\n",
      "         [ 0.0075,  0.5236, -0.5589],\n",
      "         [ 0.6017,  0.2810, -0.6089]]], grad_fn=<TransposeBackward1>)\n",
      "torch.Size([2, 3, 3])\n",
      "tensor([[[-0.5399,  0.7522, -0.0882],\n",
      "         [ 0.6017,  0.2810, -0.6089]]], grad_fn=<StackBackward0>)\n",
      "torch.Size([1, 2, 3])\n"
     ]
    }
   ],
   "source": [
    "rnn = nn.RNN(input_size, hidden_size, num_layers, batch_first=True) # 初始化rnn\n",
    "rnn_output, h_n = rnn(input, h_prev.unsqueeze(0)) # rnn输出和隐藏层状态\n",
    "print(rnn_output, rnn_output.shape, h_n, h_n.shape, sep='\\n')"
   ]
  },
  {
   "cell_type": "code",
   "execution_count": 11,
   "id": "dc017fe9-187a-4981-8f06-1a84680574cf",
   "metadata": {},
   "outputs": [
    {
     "data": {
      "text/plain": [
       "OrderedDict([('weight_ih_l0',\n",
       "              tensor([[ 0.5479,  0.4916],\n",
       "                      [-0.2934, -0.2234],\n",
       "                      [-0.2745, -0.0150]])),\n",
       "             ('weight_hh_l0',\n",
       "              tensor([[ 0.1761, -0.3001,  0.5395],\n",
       "                      [-0.2634, -0.2903,  0.3202],\n",
       "                      [-0.4855,  0.2617, -0.0028]])),\n",
       "             ('bias_ih_l0', tensor([ 0.4256,  0.4981, -0.3173])),\n",
       "             ('bias_hh_l0', tensor([ 0.1950,  0.4163, -0.2147]))])"
      ]
     },
     "execution_count": 11,
     "metadata": {},
     "output_type": "execute_result"
    }
   ],
   "source": [
    "rnn.state_dict()"
   ]
  },
  {
   "cell_type": "code",
   "execution_count": 12,
   "id": "4ad63aab-300f-45c0-9d46-bb3e9c58d470",
   "metadata": {},
   "outputs": [],
   "source": [
    "class RNN：\n",
    "def __init__(self,input_size=4, hidden_size=3, num_layers=1, batch_first=True):\n",
    "    self.input_size = input_size\n",
    "    self.hidden_size = hidden_size\n",
    "    self.num_layers = num_layers\n",
    "def rnn_forward(input, W_ih, W_hh, b_ih, b_hh, h_prev):\n",
    "    batch_size, seq_len, input_size = input.shape\n",
    "    hidden_size = W_ih.shape[0] # 隐藏层维度, seq_len就等于hidden_size，所以是W_ih.shape[0]\n",
    "    h_output = torch.zeros(batch_size, seq_len, hidden_size) # 初始化一个输出矩阵output 看官方参数来定义\n",
    "    for t in range(seq_len):\n",
    "        x_t = input[:, t, :].unsqueeze(2) # input[:,t,:].shape = [batch_size,input_size] -> (batch_size,input_size,1)\n",
    "\n",
    "        # w_ih_batch.shape = [hidden_size,input_size]->(1,hidden_size,input_size)->(batch_size,hidden_size,input_size)\n",
    "        # tile(batch_size, 1, 1): 第0维变成原来的batch_size倍（默认行复制）其他两维为1保持不动-> (batch_size,hidden_size,input_size)\n",
    "        w_ih_batch = W_ih.unsqueeze(0).tile(batch_size, 1, 1)\n",
    "\n",
    "        # w_hh_batch.shaoe = [hidden_size,input_size]->(1,hidden_size,input_size)->(batch_size,hidden_size,input_size)\n",
    "        w_hh_batch = W_hh.unsqueeze(0).tile(batch_size, 1, 1)\n",
    "\n",
    "        # w_ih_times_x.shape=(batch_size,hidden_size,1) -> (batch_size,hidden_size)\n",
    "        w_ih_times_x = torch.bmm(w_ih_batch, x_t).squeeze(-1)  # W_ih * x_t\n",
    "\n",
    "        # h_prev.unsqueeze(2) : (batch_size,hidden_size,1)\n",
    "        # w_hh_times_h.shape =(batch_size,hidden_size,1)->(batch_size,hidden_size)\n",
    "        w_hh_times_h = torch.bmm(w_hh_batch, h_prev.unsqueeze(2)).squeeze(-1)\n",
    "\n",
    "        # h_prev = (1,batch_size,hidden_size)->(batch_size, hidden_size)\n",
    "        h_prev = torch.tanh(w_ih_times_x + b_ih + w_hh_times_h + b_hh)\n",
    "\n",
    "        h_output[:,t,:] = h_prev\n",
    "        \n",
    "    # 按官方api格式返回\n",
    "    # h_prev.unsqueeze(0) : (1,batch_size,hidden_size) 因为官方参数为(D∗num_layers,bs,hidden_size)\n",
    "    return h_output, h_prev.unsqueeze(0)"
   ]
  },
  {
   "cell_type": "code",
   "execution_count": 13,
   "id": "70184ead-7f9a-48c7-9307-ac4cfedbf72d",
   "metadata": {},
   "outputs": [
    {
     "name": "stdout",
     "output_type": "stream",
     "text": [
      "custom\n",
      "tensor([[[ 0.8950,  0.4833, -0.5547],\n",
      "         [ 0.1424,  0.4373, -0.6090],\n",
      "         [-0.5399,  0.7522, -0.0882]],\n",
      "\n",
      "        [[ 0.2022,  0.8119, -0.3363],\n",
      "         [ 0.0075,  0.5236, -0.5589],\n",
      "         [ 0.6017,  0.2810, -0.6089]]], grad_fn=<TransposeBackward1>)\n",
      "torch.Size([2, 3, 3])\n",
      "tensor([[[-0.5399,  0.7522, -0.0882],\n",
      "         [ 0.6017,  0.2810, -0.6089]]], grad_fn=<StackBackward0>)\n",
      "torch.Size([1, 2, 3])\n",
      "torch api\n",
      "tensor([[[ 0.8950,  0.4833, -0.5547],\n",
      "         [ 0.1424,  0.4373, -0.6090],\n",
      "         [-0.5399,  0.7522, -0.0882]],\n",
      "\n",
      "        [[ 0.2022,  0.8119, -0.3363],\n",
      "         [ 0.0075,  0.5236, -0.5589],\n",
      "         [ 0.6017,  0.2810, -0.6089]]], grad_fn=<CopySlices>)\n",
      "torch.Size([2, 3, 3])\n",
      "tensor([[[-0.5399,  0.7522, -0.0882],\n",
      "         [ 0.6017,  0.2810, -0.6089]]], grad_fn=<UnsqueezeBackward0>)\n",
      "torch.Size([1, 2, 3])\n"
     ]
    }
   ],
   "source": [
    "rnn_output, h_n = rnn(input, h_prev.unsqueeze(0))\n",
    "custom_output, custom_hn = rnn_forward(input, rnn.weight_ih_l0, rnn.weight_hh_l0, rnn.bias_ih_l0, rnn.bias_hh_l0, h_prev)\n",
    "print('custom', rnn_output, rnn_output.shape, h_n, h_n.shape, sep='\\n')\n",
    "print('torch api', custom_output, custom_output.shape, custom_hn, custom_hn.shape, sep='\\n')"
   ]
  },
  {
   "cell_type": "markdown",
   "id": "c15c5864-7dc1-4c9d-ac3f-91dbfa93aebb",
   "metadata": {},
   "source": [
    "## 训练"
   ]
  },
  {
   "cell_type": "code",
   "execution_count": null,
   "id": "14bcb5b5-0f9c-4fe0-888b-f72f4209ee4f",
   "metadata": {},
   "outputs": [],
   "source": []
  }
 ],
 "metadata": {
  "kernelspec": {
   "display_name": "Python 3 (ipykernel)",
   "language": "python",
   "name": "python3"
  },
  "language_info": {
   "codemirror_mode": {
    "name": "ipython",
    "version": 3
   },
   "file_extension": ".py",
   "mimetype": "text/x-python",
   "name": "python",
   "nbconvert_exporter": "python",
   "pygments_lexer": "ipython3",
   "version": "3.10.8"
  }
 },
 "nbformat": 4,
 "nbformat_minor": 5
}
