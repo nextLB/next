{
 "cells": [
  {
   "cell_type": "markdown",
   "id": "628ea545",
   "metadata": {},
   "source": [
    "# 一、小波分解的用法\n",
    "## 1.1 工具包使用\n",
    "\n",
    "- 安装\n",
    "\n",
    "关于 `PyWavelets` 的更多用法，请查阅其官方文档：[link](https://pywavelets.readthedocs.io/en/latest/ref/wavelets.html#wavelet-families)及 [pyWavelets使用笔记](https://www.docin.com/p-74261596.html)。"
   ]
  },
  {
   "cell_type": "code",
   "execution_count": 1,
   "id": "4602894a",
   "metadata": {
    "scrolled": true
   },
   "outputs": [
    {
     "name": "stdout",
     "output_type": "stream",
     "text": [
      "Looking in indexes: https://pypi.tuna.tsinghua.edu.cn/simple\r\n",
      "Requirement already satisfied: PyWavelets in /Users/yangsu/miniconda3/envs/whalequant/lib/python3.8/site-packages (1.4.1)\r\n",
      "Requirement already satisfied: numpy>=1.17.3 in /Users/yangsu/miniconda3/envs/whalequant/lib/python3.8/site-packages (from PyWavelets) (1.24.4)\r\n"
     ]
    }
   ],
   "source": [
    "!pip install PyWavelets"
   ]
  },
  {
   "cell_type": "markdown",
   "id": "3ac5e839",
   "metadata": {},
   "source": [
    "- import module"
   ]
  },
  {
   "cell_type": "code",
   "execution_count": 2,
   "id": "98b75c0e",
   "metadata": {},
   "outputs": [
    {
     "name": "stdout",
     "output_type": "stream",
     "text": [
      "['haar', 'db', 'sym', 'coif', 'bior', 'rbio', 'dmey', 'gaus', 'mexh', 'morl', 'cgau', 'shan', 'fbsp', 'cmor']\n",
      "['Haar', 'Daubechies', 'Symlets', 'Coiflets', 'Biorthogonal', 'Reverse biorthogonal', 'Discrete Meyer (FIR Approximation)', 'Gaussian', 'Mexican hat wavelet', 'Morlet wavelet', 'Complex Gaussian wavelets', 'Shannon wavelets', 'Frequency B-Spline wavelets', 'Complex Morlet wavelets']\n"
     ]
    }
   ],
   "source": [
    "import pywt \n",
    "print(pywt.families()) # 打印出小波族\n",
    "print(pywt.families(short=False))"
   ]
  },
  {
   "cell_type": "markdown",
   "id": "6ae0132b",
   "metadata": {},
   "source": [
    "- haar: Haar\n",
    "- db: Daubechies\n",
    "- sym: Symlets\n",
    "- coif: Coiflets\n",
    "- bior: Biorthogonal\n",
    "- rbio: Reverse biorthogonal\n",
    "- dmey: \"discrete: Fir approximation of Meyer wavelet\n",
    "- gaus: Gaussian wavelets\n",
    "- mexh: Mexican hat wavelet\n",
    "- morl: Morlet wavelet\n",
    "- cgau: Complex Gaussian wavelets\n",
    "- shan: Shannon wavelets\n",
    "- fbsp: Frequency B-Spline wavelets\n",
    "- cmor: Complex Morlet wavelets"
   ]
  },
  {
   "cell_type": "markdown",
   "id": "903bcdc0",
   "metadata": {},
   "source": [
    "- 显示小波族中包含的小波名称"
   ]
  },
  {
   "cell_type": "code",
   "execution_count": 3,
   "id": "36626dbb",
   "metadata": {},
   "outputs": [
    {
     "name": "stdout",
     "output_type": "stream",
     "text": [
      "['db1', 'db2', 'db3', 'db4', 'db5', 'db6', 'db7', 'db8', 'db9', 'db10', 'db11', 'db12', 'db13', 'db14', 'db15', 'db16', 'db17', 'db18', 'db19', 'db20', 'db21', 'db22', 'db23', 'db24', 'db25', 'db26', 'db27', 'db28', 'db29', 'db30', 'db31', 'db32', 'db33', 'db34', 'db35', 'db36', 'db37', 'db38']\n"
     ]
    }
   ],
   "source": [
    "print(pywt.wavelist('db'))"
   ]
  },
  {
   "cell_type": "markdown",
   "id": "723e1bbf",
   "metadata": {},
   "source": [
    "- 小波对象"
   ]
  },
  {
   "cell_type": "code",
   "execution_count": 4,
   "id": "65d91c6a",
   "metadata": {},
   "outputs": [
    {
     "name": "stdout",
     "output_type": "stream",
     "text": [
      "Help on class Wavelet in module pywt._extensions._pywt:\n",
      "\n",
      "class Wavelet(builtins.object)\n",
      " |  Wavelet(name, filter_bank=None) object describe properties of\n",
      " |  a wavelet identified by name.\n",
      " |  \n",
      " |  In order to use a built-in wavelet the parameter name must be\n",
      " |  a valid name from the wavelist() list.\n",
      " |  To create a custom wavelet object, filter_bank parameter must\n",
      " |  be specified. It can be either a list of four filters or an object\n",
      " |  that a `filter_bank` attribute which returns a list of four\n",
      " |  filters - just like the Wavelet instance itself.\n",
      " |  \n",
      " |  Methods defined here:\n",
      " |  \n",
      " |  __len__(self, /)\n",
      " |      Return len(self).\n",
      " |  \n",
      " |  __reduce__(...)\n",
      " |      Helper for pickle.\n",
      " |  \n",
      " |  __repr__(self, /)\n",
      " |      Return repr(self).\n",
      " |  \n",
      " |  __str__(self, /)\n",
      " |      Return str(self).\n",
      " |  \n",
      " |  get_filters_coeffs(...)\n",
      " |  \n",
      " |  get_reverse_filters_coeffs(...)\n",
      " |  \n",
      " |  wavefun(...)\n",
      " |      wavefun(self, level=8)\n",
      " |      \n",
      " |      Calculates approximations of scaling function (`phi`) and wavelet\n",
      " |      function (`psi`) on xgrid (`x`) at a given level of refinement.\n",
      " |      \n",
      " |      Parameters\n",
      " |      ----------\n",
      " |      level : int, optional\n",
      " |          Level of refinement (default: 8).\n",
      " |      \n",
      " |      Returns\n",
      " |      -------\n",
      " |      [phi, psi, x] : array_like\n",
      " |          For orthogonal wavelets returns scaling function, wavelet function\n",
      " |          and xgrid - [phi, psi, x].\n",
      " |      \n",
      " |      [phi_d, psi_d, phi_r, psi_r, x] : array_like\n",
      " |          For biorthogonal wavelets returns scaling and wavelet function both\n",
      " |          for decomposition and reconstruction and xgrid\n",
      " |      \n",
      " |      Examples\n",
      " |      --------\n",
      " |      >>> import pywt\n",
      " |      >>> # Orthogonal\n",
      " |      >>> wavelet = pywt.Wavelet('db2')\n",
      " |      >>> phi, psi, x = wavelet.wavefun(level=5)\n",
      " |      >>> # Biorthogonal\n",
      " |      >>> wavelet = pywt.Wavelet('bior3.5')\n",
      " |      >>> phi_d, psi_d, phi_r, psi_r, x = wavelet.wavefun(level=5)\n",
      " |  \n",
      " |  ----------------------------------------------------------------------\n",
      " |  Static methods defined here:\n",
      " |  \n",
      " |  __new__(*args, **kwargs) from builtins.type\n",
      " |      Create and return a new object.  See help(type) for accurate signature.\n",
      " |  \n",
      " |  ----------------------------------------------------------------------\n",
      " |  Data descriptors defined here:\n",
      " |  \n",
      " |  biorthogonal\n",
      " |      Is biorthogonal\n",
      " |  \n",
      " |  dec_hi\n",
      " |      Highpass decomposition filter\n",
      " |  \n",
      " |  dec_len\n",
      " |      Decomposition filters length\n",
      " |  \n",
      " |  dec_lo\n",
      " |      Lowpass decomposition filter\n",
      " |  \n",
      " |  family_name\n",
      " |      Wavelet family name\n",
      " |  \n",
      " |  family_number\n",
      " |      Wavelet family number\n",
      " |  \n",
      " |  filter_bank\n",
      " |      Returns tuple of wavelet filters coefficients\n",
      " |      (dec_lo, dec_hi, rec_lo, rec_hi)\n",
      " |  \n",
      " |  inverse_filter_bank\n",
      " |      Tuple of inverse wavelet filters coefficients\n",
      " |      (rec_lo[::-1], rec_hi[::-1], dec_lo[::-1], dec_hi[::-1])\n",
      " |  \n",
      " |  name\n",
      " |  \n",
      " |  number\n",
      " |  \n",
      " |  orthogonal\n",
      " |      Is orthogonal\n",
      " |  \n",
      " |  rec_hi\n",
      " |      Highpass reconstruction filter\n",
      " |  \n",
      " |  rec_len\n",
      " |      Reconstruction filters length\n",
      " |  \n",
      " |  rec_lo\n",
      " |      Lowpass reconstruction filter\n",
      " |  \n",
      " |  short_family_name\n",
      " |      Short wavelet family name\n",
      " |  \n",
      " |  symmetry\n",
      " |      Wavelet symmetry\n",
      " |  \n",
      " |  vanishing_moments_phi\n",
      " |      Number of vanishing moments for scaling function\n",
      " |  \n",
      " |  vanishing_moments_psi\n",
      " |      Number of vanishing moments for wavelet function\n",
      "\n"
     ]
    }
   ],
   "source": [
    "help(pywt.Wavelet)"
   ]
  },
  {
   "cell_type": "markdown",
   "id": "f0573e33",
   "metadata": {},
   "source": [
    "参数说明：`name`: 小波名称；`filter_bank`: 使用提供的滤波器组。示例："
   ]
  },
  {
   "cell_type": "code",
   "execution_count": 5,
   "id": "abafa81b",
   "metadata": {},
   "outputs": [
    {
     "name": "stdout",
     "output_type": "stream",
     "text": [
      "Wavelet db8\n",
      "  Family name:    Daubechies\n",
      "  Short name:     db\n",
      "  Filters length: 16\n",
      "  Orthogonal:     True\n",
      "  Biorthogonal:   True\n",
      "  Symmetry:       asymmetric\n",
      "  DWT:            True\n",
      "  CWT:            False\n"
     ]
    }
   ],
   "source": [
    "wavelet = pywt.Wavelet('db8')\n",
    "print(wavelet)"
   ]
  },
  {
   "cell_type": "markdown",
   "id": "a80d67dc",
   "metadata": {},
   "source": [
    "- Haar (haar)\n",
    "\n",
    "Haar函数是小波分析中最早用到的一个具有紧支撑的正交小波函数，也是最简单的一个小波函数，它是支撑域在 $t \\in [0,1]$ 范围内的单个矩形波。`Haar` 小波在时域上是不连续的，所以作为基本小波性能不是特别好。\n",
    "\n",
    "- Daubechies (db)\n",
    "\n",
    "多贝西小波小波函数 $\\Psi(\\mathrm{t})$ 和尺度函数 $\\phi(t)$ 中的支撑区为 $2 N − 1$，$\\Psi(\\mathrm{t})$ 的消失矩为 $N$。$\\mathrm{db} N$ 小波具有较好的正则性，即该小波作为稀疏基所引入的光滑误差不容易被察觉，使得信号重构过程比较光滑。$\\mathrm{db}$ N 小波的特点是随着阶次（序列N）的增大消失矩阶数越大，其中消失矩越高光滑性就越好，频域的局部化能力就越强，频带的划分效果越好，但是会使时域紧支撑性减弱，同时计算量大大增加，实时性变差。另外，除 $N=1$ 外，$\\mathrm{db} N$ 小波不具有对称性（即非线性相位），即在对信号进行分析和重构时会产生一定的相位失真。$\\mathrm{db} N$ 没有明确的表达式（除了 $N=1$ 外，$N=1$ 时即为 `Haar` 小波）\n",
    "\n",
    "Ref：[Python 离散小波变换（DWT） pywt库]（https://blog.csdn.net/wsp_1138886114/article/details/116780542）"
   ]
  },
  {
   "cell_type": "markdown",
   "id": "cb3aa720",
   "metadata": {},
   "source": [
    "```python\n",
    "# Filters length: 6        #滤波器长度\n",
    "# Orthogonal:     True    #正交\n",
    "# Biorthogonal:   True    #双正交\n",
    "# Symmetry:       asymmetric    #对称性，不对称\n",
    "# DWT:            True    #离散小波变换\n",
    "# CWT:            False    #连续小波变换\n",
    "```"
   ]
  },
  {
   "cell_type": "code",
   "execution_count": 6,
   "id": "dc48616d",
   "metadata": {},
   "outputs": [
    {
     "name": "stdout",
     "output_type": "stream",
     "text": [
      "True\n",
      "16\n",
      "16\n"
     ]
    }
   ],
   "source": [
    "def print_array(arr):\n",
    "    print('[%s]'%','.join(['%.14f'%x for x in arr]))\n",
    "    \n",
    "#离散小波变换的小波滤波系数\n",
    "# dec_lo Decomposition filter values 分解滤波值， rec 重构滤波值\n",
    "#db3.filter_bank 返回4 个属性\n",
    "print(wavelet.filter_bank == (wavelet.dec_lo, wavelet.dec_hi, wavelet.rec_lo, wavelet.rec_hi))  #True\n",
    "print(wavelet.dec_len) \n",
    "print(wavelet.rec_len)  #16 "
   ]
  },
  {
   "cell_type": "markdown",
   "id": "b77fe39c",
   "metadata": {},
   "source": [
    "# 二、实战篇：基于小波分解与支持向量机的股票预测\n",
    "## 2.1 获取数据"
   ]
  },
  {
   "cell_type": "markdown",
   "id": "52833b37",
   "metadata": {},
   "source": [
    "接下来，我们借助 `tushare` 工具包获取股票数据，并使用小波分解进行实战演练。关于 `tushare` 的具体用法，请查阅 [官方文档](http://tushare.org/classifying.html#id8)。\n",
    "\n",
    "**注**： 此处需要在 tushare 官网申请一个账号，然后得到 token 后，赋值传给 `ts_token` 才能通过数据接口获取数据。"
   ]
  },
  {
   "cell_type": "code",
   "execution_count": 7,
   "id": "94fe5c43",
   "metadata": {},
   "outputs": [],
   "source": [
    "ts_token = ''"
   ]
  },
  {
   "cell_type": "markdown",
   "id": "db4c07be",
   "metadata": {},
   "source": [
    "这里是用 000001 平安银行为例，下载从 `2015-1-1` 到最近某一天的股价数据"
   ]
  },
  {
   "cell_type": "code",
   "execution_count": 8,
   "id": "cae7cb8c",
   "metadata": {},
   "outputs": [],
   "source": [
    "import datetime\n",
    "import tushare as ts\n",
    "\n",
    "ts.set_token(ts_token) \n",
    "pro = ts.pro_api()\n",
    "\n",
    "time_temp = datetime.datetime.now() - datetime.timedelta(days=1)\n",
    "end_dt = time_temp.strftime('%Y%m%d')"
   ]
  },
  {
   "cell_type": "code",
   "execution_count": 9,
   "id": "84739247",
   "metadata": {},
   "outputs": [
    {
     "data": {
      "text/html": [
       "<div>\n",
       "<style scoped>\n",
       "    .dataframe tbody tr th:only-of-type {\n",
       "        vertical-align: middle;\n",
       "    }\n",
       "\n",
       "    .dataframe tbody tr th {\n",
       "        vertical-align: top;\n",
       "    }\n",
       "\n",
       "    .dataframe thead th {\n",
       "        text-align: right;\n",
       "    }\n",
       "</style>\n",
       "<table border=\"1\" class=\"dataframe\">\n",
       "  <thead>\n",
       "    <tr style=\"text-align: right;\">\n",
       "      <th></th>\n",
       "      <th>index</th>\n",
       "      <th>ts_code</th>\n",
       "      <th>trade_date</th>\n",
       "      <th>open</th>\n",
       "      <th>high</th>\n",
       "      <th>low</th>\n",
       "      <th>close</th>\n",
       "      <th>pre_close</th>\n",
       "      <th>change</th>\n",
       "      <th>pct_chg</th>\n",
       "      <th>vol</th>\n",
       "      <th>amount</th>\n",
       "    </tr>\n",
       "  </thead>\n",
       "  <tbody>\n",
       "    <tr>\n",
       "      <th>0</th>\n",
       "      <td>2077</td>\n",
       "      <td>000001.SZ</td>\n",
       "      <td>20150105</td>\n",
       "      <td>15.99</td>\n",
       "      <td>16.28</td>\n",
       "      <td>15.60</td>\n",
       "      <td>16.02</td>\n",
       "      <td>15.84</td>\n",
       "      <td>0.18</td>\n",
       "      <td>1.14</td>\n",
       "      <td>2860436.43</td>\n",
       "      <td>4.565388e+06</td>\n",
       "    </tr>\n",
       "    <tr>\n",
       "      <th>1</th>\n",
       "      <td>2076</td>\n",
       "      <td>000001.SZ</td>\n",
       "      <td>20150106</td>\n",
       "      <td>15.85</td>\n",
       "      <td>16.39</td>\n",
       "      <td>15.55</td>\n",
       "      <td>15.78</td>\n",
       "      <td>16.02</td>\n",
       "      <td>-0.24</td>\n",
       "      <td>-1.50</td>\n",
       "      <td>2166421.40</td>\n",
       "      <td>3.453446e+06</td>\n",
       "    </tr>\n",
       "    <tr>\n",
       "      <th>2</th>\n",
       "      <td>2075</td>\n",
       "      <td>000001.SZ</td>\n",
       "      <td>20150107</td>\n",
       "      <td>15.56</td>\n",
       "      <td>15.83</td>\n",
       "      <td>15.30</td>\n",
       "      <td>15.48</td>\n",
       "      <td>15.78</td>\n",
       "      <td>-0.30</td>\n",
       "      <td>-1.90</td>\n",
       "      <td>1700120.67</td>\n",
       "      <td>2.634796e+06</td>\n",
       "    </tr>\n",
       "    <tr>\n",
       "      <th>3</th>\n",
       "      <td>2074</td>\n",
       "      <td>000001.SZ</td>\n",
       "      <td>20150108</td>\n",
       "      <td>15.50</td>\n",
       "      <td>15.57</td>\n",
       "      <td>14.90</td>\n",
       "      <td>14.96</td>\n",
       "      <td>15.48</td>\n",
       "      <td>-0.52</td>\n",
       "      <td>-3.36</td>\n",
       "      <td>1407714.21</td>\n",
       "      <td>2.128003e+06</td>\n",
       "    </tr>\n",
       "    <tr>\n",
       "      <th>4</th>\n",
       "      <td>2073</td>\n",
       "      <td>000001.SZ</td>\n",
       "      <td>20150109</td>\n",
       "      <td>14.90</td>\n",
       "      <td>15.87</td>\n",
       "      <td>14.71</td>\n",
       "      <td>15.08</td>\n",
       "      <td>14.96</td>\n",
       "      <td>0.12</td>\n",
       "      <td>0.80</td>\n",
       "      <td>2508500.23</td>\n",
       "      <td>3.835378e+06</td>\n",
       "    </tr>\n",
       "  </tbody>\n",
       "</table>\n",
       "</div>"
      ],
      "text/plain": [
       "   index    ts_code trade_date   open   high    low  close  pre_close  change  \\\n",
       "0   2077  000001.SZ   20150105  15.99  16.28  15.60  16.02      15.84    0.18   \n",
       "1   2076  000001.SZ   20150106  15.85  16.39  15.55  15.78      16.02   -0.24   \n",
       "2   2075  000001.SZ   20150107  15.56  15.83  15.30  15.48      15.78   -0.30   \n",
       "3   2074  000001.SZ   20150108  15.50  15.57  14.90  14.96      15.48   -0.52   \n",
       "4   2073  000001.SZ   20150109  14.90  15.87  14.71  15.08      14.96    0.12   \n",
       "\n",
       "   pct_chg         vol        amount  \n",
       "0     1.14  2860436.43  4.565388e+06  \n",
       "1    -1.50  2166421.40  3.453446e+06  \n",
       "2    -1.90  1700120.67  2.634796e+06  \n",
       "3    -3.36  1407714.21  2.128003e+06  \n",
       "4     0.80  2508500.23  3.835378e+06  "
      ]
     },
     "execution_count": 9,
     "metadata": {},
     "output_type": "execute_result"
    }
   ],
   "source": [
    "df = ts.pro_bar(ts_code='000001.SZ', start_date='20150101', end_date=end_dt, freq='D')\n",
    "\n",
    "#把数据按时间调转顺序，最新的放后面，从 tushare 下载的数据是最新的在前面，为了后面准备 X,y 数据方便\n",
    "df = df.iloc[::-1]\n",
    "df.reset_index(inplace=True)\n",
    "\n",
    "df.head() #用 df.head() 可以查看一下下载下来的股票价格数据，显示数据如下："
   ]
  },
  {
   "cell_type": "markdown",
   "id": "8adcb218",
   "metadata": {},
   "source": [
    "只用数据里面的收盘价字段的数据，也可以测试用更多价格字段作为预测输入数据"
   ]
  },
  {
   "cell_type": "code",
   "execution_count": 10,
   "id": "28c2b087",
   "metadata": {},
   "outputs": [
    {
     "name": "stdout",
     "output_type": "stream",
     "text": [
      "(2078, 1)\n"
     ]
    },
    {
     "data": {
      "text/plain": [
       "[<matplotlib.lines.Line2D at 0x14886b5b0>]"
      ]
     },
     "execution_count": 10,
     "metadata": {},
     "output_type": "execute_result"
    },
    {
     "data": {
      "image/png": "[encoded data removed]",
      "text/plain": [
       "<Figure size 640x480 with 1 Axes>"
      ]
     },
     "metadata": {},
     "output_type": "display_data"
    }
   ],
   "source": [
    "from sklearn.preprocessing import MinMaxScaler\n",
    "import matplotlib.pyplot as plt\n",
    "\n",
    "#只用数据里面的收盘价字段的数据，也可以测试用更多价格字段作为预测输入数据\n",
    "data_set = df.loc[:, ['close']]\n",
    "#只取价格数据，不要表头等内容\n",
    "data_set = data_set.values\n",
    "# #对数据做规则化处理，都按比例转成 0 到 1 之间的数据，这是为了避免真实数据过大或过小影响模型判断\n",
    "sc = MinMaxScaler(feature_range = (0, 1))\n",
    "data_set_scaled = sc.fit_transform(data_set)\n",
    " \n",
    "print(data_set_scaled.shape)\n",
    " \n",
    "plt.figure()\n",
    "plt.plot(data_set_scaled,\"r-\")"
   ]
  },
  {
   "cell_type": "markdown",
   "id": "48c52f07",
   "metadata": {},
   "source": [
    "## 2.2 使用小波分解降噪"
   ]
  },
  {
   "cell_type": "code",
   "execution_count": 11,
   "id": "770efb01",
   "metadata": {},
   "outputs": [
    {
     "name": "stdout",
     "output_type": "stream",
     "text": [
      "(31,)\n",
      "8\n",
      "(2078,)\n"
     ]
    },
    {
     "data": {
      "image/png": "[encoded data removed]",
      "text/plain": [
       "<Figure size 640x480 with 1 Axes>"
      ]
     },
     "metadata": {},
     "output_type": "display_data"
    }
   ],
   "source": [
    "import pywt \n",
    "import numpy as np\n",
    "\n",
    "#小波去噪处理\n",
    "data_set_scaled=data_set_scaled.reshape(-1)\n",
    " \n",
    "w = pywt.Wavelet('db8')  # 选用Daubechies8小波\n",
    "maxlev = pywt.dwt_max_level(len(data_set_scaled), w.dec_len)\n",
    "threshold = 0.05  # Threshold for filtering\n",
    " \n",
    "coeffs = pywt.wavedec(data_set_scaled, 'db8', level=maxlev)  # 将信号进行小波分解\n",
    "print(coeffs[0].shape)\n",
    "print(len(coeffs))\n",
    "for i in range(1, len(coeffs)):\n",
    "    coeffs[i] = pywt.threshold(coeffs[i], threshold*max(coeffs[i]))  # 将噪声滤波\n",
    "    \n",
    "data_set_scaled_wv = pywt.waverec(coeffs, 'db8')  # 将信号进行小波重构\n",
    " \n",
    "plt.plot(data_set_scaled_wv,\"b--\")\n",
    " \n",
    "data_set_scaled_wv = np.array(data_set_scaled_wv)\n",
    "# training_set_scaled=training_set_scaled.reshape(-1,1)\n",
    "print(data_set_scaled_wv.shape)"
   ]
  },
  {
   "cell_type": "markdown",
   "id": "1dd77494",
   "metadata": {},
   "source": [
    "## 2.3 构建训练样本集\n",
    "- 准备 X 和 y 数据\n",
    "\n",
    "就类似前面解释的，先用最近一个交易日的收盘价作为第一个 y，然后这个交易日以前的 30 个交易日（滞后阶数 lag 为30）的收盘价作为 X。\n",
    "这样依次往前推，例如最近第二个收盘价是第二个 y，而最新第二个收盘价以前的 30 个交易日收盘价作为第二个 X，依次往前准备出大量的 X 和 y，用于后面的训练。\n",
    "\n",
    "**注**： 此处针对 `X` 和 `y` 的处理略有不同，X 选择的是小波分解重构之后的数据，而 `y` 则选择的没有进行小波分解重构的数据"
   ]
  },
  {
   "cell_type": "code",
   "execution_count": 12,
   "id": "1e331fe0",
   "metadata": {},
   "outputs": [
    {
     "name": "stdout",
     "output_type": "stream",
     "text": [
      "(2048, 30)\n",
      "(2048,)\n"
     ]
    }
   ],
   "source": [
    "X_data = []\n",
    "y_data = []\n",
    "lags = 30\n",
    "\n",
    "for i in range(lags, len(data_set_scaled)):\n",
    "    X_data.append(data_set_scaled_wv[i-lags:i])\n",
    "    y_data.append(data_set_scaled[i])\n",
    "\n",
    "X_data, y_data = np.array(X_data), np.array(y_data)\n",
    "\n",
    "# X_train=X_train.reshape(-1,1,devia)\n",
    "print(X_data.shape)\n",
    "print(y_data.shape) "
   ]
  },
  {
   "cell_type": "markdown",
   "id": "db3db68b",
   "metadata": {},
   "source": [
    "- 分割数据集\n",
    "\n",
    "在实际操作中，通常会对数据进行分割，得到训练数据集和测试数据集，常用的分割比例为 7/3，8/2。此外，在科研论文中，通常会设置多个不同的分割比例来确保实证结果的稳健型。此处，为方便起见，我们选择 2022年前的数据作为训练集，2022年之后的数据作为测试集。"
   ]
  },
  {
   "cell_type": "code",
   "execution_count": 13,
   "id": "8664a43a",
   "metadata": {},
   "outputs": [
    {
     "data": {
      "text/plain": [
       "((1674, 30), (374, 30))"
      ]
     },
     "execution_count": 13,
     "metadata": {},
     "output_type": "execute_result"
    }
   ],
   "source": [
    "split_date = '20211231'\n",
    "train_length = df[df['trade_date']== split_date].index.values - lags\n",
    "X_train = X_data[:train_length[0], :]\n",
    "y_train = y_data[:train_length[0]]\n",
    "X_test = X_data[train_length[0]:, :]\n",
    "y_test = y_data[train_length[0]:]\n",
    "\n",
    "X_train.shape, X_test.shape"
   ]
  },
  {
   "cell_type": "markdown",
   "id": "b991c81b",
   "metadata": {},
   "source": [
    "## 2.4 构建模型与评价指标\n",
    "- 选择评价指标\n",
    "\n",
    "此处，选择 `MSE` 和 `MAE` 两个常见的评价指标来进行评价。"
   ]
  },
  {
   "cell_type": "code",
   "execution_count": 14,
   "id": "3f23eb4b",
   "metadata": {},
   "outputs": [],
   "source": [
    "from sklearn.metrics import mean_absolute_error, r2_score\n",
    "from sklearn.metrics import accuracy_score\n",
    "from sklearn.metrics import mean_squared_error\n",
    "\n",
    "# Calculating directional accuracy\n",
    "def direct_accuracy(real_Y, pred_Y):\n",
    "    # Turn numpy into pandas to difference the series\n",
    "    temp_real = pd.DataFrame(real_Y)\n",
    "    \n",
    "    pd_real = temp_real.diff().dropna() # Difference\n",
    "    \n",
    "    temp_pred = pred_Y[1:]-real_Y[:-1]\n",
    "    pd_pred = pd.DataFrame(temp_pred)\n",
    "    \n",
    "    # Set the value to 1 if the changes of series is positive\n",
    "    \n",
    "    real_direct = np.ones(len(pd_real)) # Default value is set to 1\n",
    "    pred_direct = np.ones(len(pd_pred))\n",
    "    \n",
    "    # Change the value to -1 if the changes is negative\n",
    "    row, col = np.where(pd_real<0)\n",
    "    real_direct[row] = -1 \n",
    "    \n",
    "    row, col = np.where(pd_pred<0)\n",
    "    pred_direct[row] = -1\n",
    "    \n",
    "    return accuracy_score(real_direct, pred_direct)\n",
    "\n",
    "def cal_metrics(pred, real, mean_name):\n",
    "    metric = np.array(['Means', 'MSE', 'MAE'])\n",
    "    mse = mean_squared_error(real, pred).round(4)\n",
    "    mae = mean_absolute_error(real, pred).round(4)\n",
    "    metric = np.vstack((metric, [mean_name, mse, mae]))\n",
    "    return metric"
   ]
  },
  {
   "cell_type": "code",
   "execution_count": 15,
   "id": "935f2c6b",
   "metadata": {},
   "outputs": [
    {
     "name": "stderr",
     "output_type": "stream",
     "text": [
      "/Users/yangsu/miniconda3/envs/whalequant/lib/python3.8/site-packages/sklearn/svm/_classes.py:32: FutureWarning: The default value of `dual` will change from `True` to `'auto'` in 1.5. Set the value of `dual` explicitly to suppress the warning.\n",
      "  warnings.warn(\n",
      "/Users/yangsu/miniconda3/envs/whalequant/lib/python3.8/site-packages/sklearn/svm/_base.py:1242: ConvergenceWarning: Liblinear failed to converge, increase the number of iterations.\n",
      "  warnings.warn(\n"
     ]
    }
   ],
   "source": [
    "from sklearn.svm import LinearSVR\n",
    "\n",
    "from sklearn.pipeline import make_pipeline\n",
    "\n",
    "regr = make_pipeline(LinearSVR(random_state=2023, max_iter=1000))\n",
    "\n",
    "regr.fit(X_train, y_train)\n",
    "\n",
    "pred_train=regr.predict(X_train)\n",
    "pred_test=regr.predict(X_test)"
   ]
  },
  {
   "cell_type": "markdown",
   "id": "4d094eca",
   "metadata": {},
   "source": [
    "## 2.5 预测结果与评价值\n",
    "- 绘制样本外预测值与真实值对比图"
   ]
  },
  {
   "cell_type": "code",
   "execution_count": 16,
   "id": "e7079375",
   "metadata": {},
   "outputs": [
    {
     "data": {
      "image/png": "[encoded data removed]",
      "text/plain": [
       "<Figure size 800x400 with 1 Axes>"
      ]
     },
     "metadata": {},
     "output_type": "display_data"
    }
   ],
   "source": [
    "price_pred_test = sc.inverse_transform(pred_test.reshape(-1, 1))\n",
    "price_real_test = sc.inverse_transform(y_test.reshape(-1, 1))\n",
    "\n",
    "plt.figure(figsize=(8, 4))\n",
    "plt.plot(price_pred_test,\"b-\")\n",
    "plt.plot(price_real_test,\"g-\")\n",
    " \n",
    "plt.show()"
   ]
  },
  {
   "cell_type": "code",
   "execution_count": 17,
   "id": "db33ee4c",
   "metadata": {},
   "outputs": [
    {
     "data": {
      "text/plain": [
       "(array([['Means', 'MSE', 'MAE'],\n",
       "        ['Train_set', '0.0004', '0.0133']], dtype='<U32'),\n",
       " array([['Means', 'MSE', 'MAE'],\n",
       "        ['Test_set', '0.0003', '0.012']], dtype='<U32'))"
      ]
     },
     "execution_count": 17,
     "metadata": {},
     "output_type": "execute_result"
    }
   ],
   "source": [
    "metric_train = cal_metrics(pred_train, y_train, 'Train_set')\n",
    "metric_test = cal_metrics(pred_test, y_test, 'Test_set')\n",
    "metric_train, metric_test"
   ]
  },
  {
   "cell_type": "markdown",
   "id": "804e80ac",
   "metadata": {},
   "source": [
    "## 2.6 完整代码："
   ]
  },
  {
   "cell_type": "code",
   "execution_count": 19,
   "id": "480d37e6",
   "metadata": {},
   "outputs": [
    {
     "name": "stdout",
     "output_type": "stream",
     "text": [
      "[['Means' 'MSE' 'MAE']\n",
      " ['Train_set' '0.0004' '0.0133']] [['Means' 'MSE' 'MAE']\n",
      " ['Test_set' '0.0003' '0.012']]\n"
     ]
    },
    {
     "data": {
      "image/png": "[encoded data removed]",
      "text/plain": [
       "<Figure size 800x400 with 1 Axes>"
      ]
     },
     "metadata": {},
     "output_type": "display_data"
    }
   ],
   "source": [
    "import pywt \n",
    "import numpy as np\n",
    "import datetime\n",
    "import tushare as ts\n",
    "from sklearn.metrics import mean_absolute_error, r2_score\n",
    "from sklearn.metrics import accuracy_score\n",
    "from sklearn.metrics import mean_squared_error\n",
    "from sklearn.svm import LinearSVR\n",
    "from sklearn.pipeline import make_pipeline\n",
    "\n",
    "\n",
    "import warnings \n",
    "warnings.filterwarnings('ignore')\n",
    "\n",
    "\n",
    "# Calculating directional accuracy\n",
    "def direct_accuracy(real_Y, pred_Y):\n",
    "    # Turn numpy into pandas to difference the series\n",
    "    temp_real = pd.DataFrame(real_Y)\n",
    "    \n",
    "    pd_real = temp_real.diff().dropna() # Difference\n",
    "    \n",
    "    temp_pred = pred_Y[1:]-real_Y[:-1]\n",
    "    pd_pred = pd.DataFrame(temp_pred)\n",
    "    \n",
    "    # Set the value to 1 if the changes of series is positive\n",
    "    \n",
    "    real_direct = np.ones(len(pd_real)) # Default value is set to 1\n",
    "    pred_direct = np.ones(len(pd_pred))\n",
    "    \n",
    "    # Change the value to -1 if the changes is negative\n",
    "    row, col = np.where(pd_real<0)\n",
    "    real_direct[row] = -1 \n",
    "    \n",
    "    row, col = np.where(pd_pred<0)\n",
    "    pred_direct[row] = -1\n",
    "    \n",
    "    return accuracy_score(real_direct, pred_direct)\n",
    "\n",
    "def cal_metrics(pred, real, mean_name):\n",
    "    metric = np.array(['Means', 'MSE', 'MAE'])\n",
    "    mse = mean_squared_error(real, pred).round(4)\n",
    "    mae = mean_absolute_error(real, pred).round(4)\n",
    "    metric = np.vstack((metric, [mean_name, mse, mae]))\n",
    "    return metric\n",
    "\n",
    "\n",
    "# ts_token = ''\n",
    "ts.set_token(ts_token) #需要在 tushare 官网申请一个账号，然后得到 token 后才能通过数据接口获取数据\n",
    "pro = ts.pro_api()\n",
    "\n",
    "time_temp = datetime.datetime.now() - datetime.timedelta(days=1)\n",
    "end_dt = time_temp.strftime('%Y%m%d')\n",
    "\n",
    "df = ts.pro_bar(ts_code='000001.SZ', start_date='20150101', end_date=end_dt, freq='D')\n",
    "\n",
    "#把数据按时间调转顺序，最新的放后面，从 tushare 下载的数据是最新的在前面，为了后面准备 X,y 数据方便\n",
    "df = df.iloc[::-1]\n",
    "df.reset_index(inplace=True)\n",
    "\n",
    "from sklearn.preprocessing import MinMaxScaler\n",
    "import matplotlib.pyplot as plt\n",
    "\n",
    "#只用数据里面的收盘价字段的数据，也可以测试用更多价格字段作为预测输入数据\n",
    "data_set = df.loc[:, ['close']]\n",
    "#只取价格数据，不要表头等内容\n",
    "data_set = data_set.values\n",
    "# #对数据做规则化处理，都按比例转成 0 到 1 之间的数据，这是为了避免真实数据过大或过小影响模型判断\n",
    "sc = MinMaxScaler(feature_range = (0, 1))\n",
    "data_set_scaled = sc.fit_transform(data_set)\n",
    "\n",
    "\n",
    "#小波去噪处理\n",
    "data_set_scaled=data_set_scaled.reshape(-1)\n",
    " \n",
    "w = pywt.Wavelet('db8')  # 选用Daubechies8小波\n",
    "maxlev = pywt.dwt_max_level(len(data_set_scaled), w.dec_len)\n",
    "threshold = 0.05  # Threshold for filtering\n",
    " \n",
    "coeffs = pywt.wavedec(data_set_scaled, 'db8', level=maxlev)  # 将信号进行小波分解\n",
    "for i in range(1, len(coeffs)):\n",
    "    coeffs[i] = pywt.threshold(coeffs[i], threshold*max(coeffs[i]))  # 将噪声滤波\n",
    "    \n",
    "data_set_scaled_wv = pywt.waverec(coeffs, 'db8')  # 将信号进行小波重构\n",
    " \n",
    "data_set_scaled_wv = np.array(data_set_scaled_wv)\n",
    "\n",
    "X_data = []\n",
    "y_data = []\n",
    "lags = 30\n",
    "\n",
    "for i in range(lags, len(data_set_scaled)):\n",
    "    X_data.append(data_set_scaled_wv[i-lags:i])\n",
    "    y_data.append(data_set_scaled[i])\n",
    "\n",
    "X_data, y_data = np.array(X_data), np.array(y_data)\n",
    "\n",
    "split_date = '20211231'\n",
    "train_length = df[df['trade_date']== split_date].index.values - lags\n",
    "X_train = X_data[:train_length[0], :]\n",
    "y_train = y_data[:train_length[0]]\n",
    "X_test = X_data[train_length[0]:, :]\n",
    "y_test = y_data[train_length[0]:]\n",
    "\n",
    "\n",
    "## 构建线性支持向量机模型\n",
    "regr = make_pipeline(LinearSVR(random_state=2023, max_iter=1000))\n",
    "\n",
    "regr.fit(X_train, y_train)\n",
    "\n",
    "pred_train=regr.predict(X_train)\n",
    "pred_test=regr.predict(X_test)\n",
    "\n",
    "metric_train = cal_metrics(pred_train, y_train, 'Train_set')\n",
    "metric_test = cal_metrics(pred_test, y_test, 'Test_set')\n",
    "print(metric_train, metric_test)\n",
    "\n",
    "price_pred_test = sc.inverse_transform(pred_test.reshape(-1, 1))\n",
    "price_real_test = sc.inverse_transform(y_test.reshape(-1, 1))\n",
    "\n",
    "plt.figure(figsize=(8, 4))\n",
    "plt.plot(price_pred_test,\"b-\")\n",
    "plt.plot(price_real_test,\"g-\")\n",
    " \n",
    "plt.show()"
   ]
  },
  {
   "cell_type": "markdown",
   "id": "8ee8251f",
   "metadata": {},
   "source": [
    "---\n",
    "# Reference:\n",
    "\n",
    "1. [Python中 pywt 小波分析库中的一些基本使用方法](https://www.jianshu.com/p/f3907c76362f)\n",
    "2. [PyWavelets](https://pywavelets.readthedocs.io/en/latest/index.html#)\n",
    "3. [形象易懂讲解算法I——小波变换](https://zhuanlan.zhihu.com/p/22450818)\n",
    "4. [小波分析要点](https://mp.weixin.qq.com/s/O42x0dhIcJJdalq8qJFWyA)\n",
    "5. [Pytorch实现的小波去噪优化后的LSTM股票预测算法](https://blog.csdn.net/qq_43344047/article/details/118607710)"
   ]
  }
 ],
 "metadata": {
  "kernelspec": {
   "display_name": "Python 3 (ipykernel)",
   "language": "python",
   "name": "python3"
  },
  "language_info": {
   "codemirror_mode": {
    "name": "ipython",
    "version": 3
   },
   "file_extension": ".py",
   "mimetype": "text/x-python",
   "name": "python",
   "nbconvert_exporter": "python",
   "pygments_lexer": "ipython3",
   "version": "3.8.17"
  },
  "toc": {
   "base_numbering": 1,
   "nav_menu": {},
   "number_sections": true,
   "sideBar": true,
   "skip_h1_title": false,
   "title_cell": "Table of Contents",
   "title_sidebar": "Contents",
   "toc_cell": false,
   "toc_position": {},
   "toc_section_display": true,
   "toc_window_display": false
  }
 },
 "nbformat": 4,
 "nbformat_minor": 5
}
